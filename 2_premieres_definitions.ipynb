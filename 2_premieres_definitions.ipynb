{
 "cells": [
  {
   "cell_type": "markdown",
   "metadata": {},
   "source": [
    "**Un exemple de ce que vous pourrez faire d'ici là :**"
   ]
  },
  {
   "cell_type": "markdown",
   "metadata": {},
   "source": [
    "\n"
   ]
  },
  {
   "cell_type": "code",
   "execution_count": 1,
   "metadata": {},
   "outputs": [
    {
     "name": "stdout",
     "output_type": "stream",
     "text": [
      "tableau_non_trie:  [48, 6, 35, 93, 8, 3, 36, 82, 25, 22, 58, 73, 46, 86, 9, 77, 10]\n",
      "tableau_trie:  [3, 6, 8, 9, 10, 22, 25, 35, 36, 46, 48, 58, 73, 77, 82, 86, 93]\n",
      "Temps de calcul: 0.00016021728515625\n"
     ]
    }
   ],
   "source": [
    "from math import floor, ceil\n",
    "import time\n",
    "import random\n",
    "# random.random() # aléatoire entre 0 et 1\n",
    "# random.randint(0,22) # entier aléatoire entre 0 et 22\n",
    "randomlist = random.sample(range(0, 101), 17)\n",
    "\n",
    "def tri_fusion(T):\n",
    "    \"\"\"Trie le tableau T en nlog(n).\"\"\"\n",
    "    l = len(T)\n",
    "    if l<2:\n",
    "        return T\n",
    "    m = ceil(l/2)\n",
    "    return fusion(tri_fusion(T[:m]), tri_fusion(T[m:]))\n",
    "\n",
    "\n",
    "def fusion(T1, T2):\n",
    "    \"\"\" Fusionne deux tableaux triés T1 et T2 en un tableau trié. \"\"\"\n",
    "    R  = []      # Tableau à remplir petit à petit à partir de T1 et T2 pour construire le tableau final trié\n",
    "    i  = 0       # Indexe à utiliser pour parcourir T1\n",
    "    j  = 0       # Indexe à utiliser pour parcourir T2\n",
    "    l1 = len(T1) # Longueur de T1\n",
    "    l2 = len(T2) # Longueur de T2\n",
    "    while (i<l1 or j<l2):\n",
    "        if i == l1:\n",
    "            R.append(T2[j]); j += 1\n",
    "        elif j == l2:\n",
    "            R.append(T1[i]); i += 1\n",
    "        else:\n",
    "            v1, v2 = T1[i], T2[j]\n",
    "            if v1 <= v2:\n",
    "                R.append(v1); i += 1\n",
    "            else:\n",
    "                R.append(v2); j += 1\n",
    "    return R\n",
    "\n",
    "\n",
    "# print(\"time.time(): %f \" %  time.time())\n",
    "# print(time.localtime( time.time() ))\n",
    "# print(time.asctime( time.localtime(time.time()) ))\n",
    "debut = time.time()\n",
    "tableau_trie = tri_fusion(randomlist)\n",
    "fin = time.time()\n",
    "print(\"tableau_non_trie: \", randomlist)\n",
    "print(\"tableau_trie: \", tableau_trie)\n",
    "print(\"Temps de calcul: {}\".format(fin - debut))\n"
   ]
  },
  {
   "cell_type": "code",
   "execution_count": 99,
   "metadata": {},
   "outputs": [
    {
     "name": "stdout",
     "output_type": "stream",
     "text": [
      "tableau_non_trie_2:  [53, 17, 50, 52, 59, 23, 32, 98, 42, 25, 80, 77, 24, 51, 85, 62, 39]\n",
      "tableau_trie_2:  [17, 23, 24, 25, 32, 39, 42, 50, 51, 52, 53, 59, 62, 77, 80, 85, 98]\n",
      "Temps de calcul: 0.00012063980102539062\n"
     ]
    }
   ],
   "source": [
    "def tri_denombrement(T):\n",
    "    m = max(T)\n",
    "    D = [0]*(m+1)\n",
    "    for element in T:\n",
    "        D[element] += 1\n",
    "    R = []\n",
    "    for i, val in enumerate(D):\n",
    "        for j in range(1,val+1):\n",
    "            R.append(i)\n",
    "    return R\n",
    "\n",
    "debut = time.time()\n",
    "tableau_trie_2 = tri_denombrement(randomlist)\n",
    "fin = time.time()\n",
    "print(\"tableau_non_trie_2: \", randomlist)\n",
    "print(\"tableau_trie_2: \", tableau_trie_2)\n",
    "print(\"Temps de calcul: {}\".format(fin - debut))"
   ]
  },
  {
   "cell_type": "markdown",
   "metadata": {},
   "source": [
    "\\pagebreak\n",
    "# Généralités"
   ]
  },
  {
   "cell_type": "markdown",
   "metadata": {},
   "source": [
    "## Qu'est-ce qu'un langage de programmation ?\n",
    "Un langage de programmation est une notation conventionnelle destinée à formuler des algorithmes et produire des programmes informatiques qui les mettent en oeuvre. Comme une langue vivante, un langage de programmation possède un alphabet, un vocabulaire et des règles de grammaire et de syntaxe.\n",
    "\n",
    "## Qu'est-ce qu'un algorithme ?\n",
    "Un algorithme est une suite finie et non ambiguë d’opérations ou d'instructions permettant de résoudre un problème. Le mot algorithme vient du nom du mathématicien perse du IXe siècle, *Al-Khwârizmî*. Quelques exemples communs d'algorithmes :\n",
    "\n",
    "+ **Une recette de cuisine** : des instructions permettant de réaliser un plat\n",
    "\n",
    "+ **Poser et résoudre une addition/soustraction/multiplication/division au CP** : une méthode permettant de résoudre des problèmes arithmétiques\n",
    "\n",
    "+ **Une chorégraphie** : une suite d'étapes permettant de réaliser ou reproduire une performance artistique\n",
    "\n",
    "+ **Un trajet routier** (tout droit, tourner à gauche, etc) : des instructions permettant d'atteindre une destination\n",
    "\n",
    "+ **L'algorithme d'Euclide** : pour trouver le PGCD de deux entiers.\n",
    "\n",
    "Il peut y avoir plusieurs algorithmes pour résoudre un même problème, certains plus efficaces que d'autres. Sur un ordinateur, l'efficacité d'un algorithme peut être mesurée par **sa durée** de calcul, **sa consommation** de mémoire vive, **la précision** des résultats obtenus, etc. On en discutera peut-être plus loin.\n",
    "\n",
    "## Qu'est-ce qu'un programme informatique ?\n",
    "Un programme informatique est un ensemble d'opérations destinées à être exécutées par un ordinateur. Il s'agit de l'écriture, dans un langage qui puisse être interprété par l'ordinateur, d'une collection d’algorithmes. Sur vos ordinateurs ou téléphones, les programmes apparaissent sous la forme d'applications (Facebook, Word, Excel, Firefox, etc.)"
   ]
  },
  {
   "cell_type": "markdown",
   "metadata": {},
   "source": [
    "# Les paradigmes de programmation\n",
    "Un paradigme est une façon d'approcher la programmation. En voici quelques uns :\n",
    "\n",
    "+ **Impératif.** Son principe est de modifier successivement des variables pour obtenir le résultat attendu, via des affectations, des boucles itératives, etc. C'est le paradigme qu'on va utiliser ici.\n",
    "\n",
    "+ Déclaratif (Fonctionnel ou Logique)\n",
    "\n",
    "+ Orienté objet. On en parlera peu-être un peu (si on a le temps à la fin!)\n",
    "\n",
    "+ Concurrent\n",
    "\n",
    "+ Visuel\n",
    "\n",
    "+ Événementiel\n",
    "\n",
    "+ etc.\n",
    "\n",
    "Chaque paradigme amène sa philosophie de la programmation, avec ses avantages et ses limitations. Certains paradigmes sont plus adaptés à certains problème que d'autres. La plupart des langages de programmation contemporains permettent d'adopter plusieurs paradigmes de programmation à condition que ceux-ci soient compatibles entre eux. Par exemple, on utilise très souvent la programmation orientée objet avec la programmation impérative."
   ]
  },
  {
   "cell_type": "markdown",
   "metadata": {},
   "source": [
    "# Le niveau d'un langage de programmation\n",
    "Les langages de programmation peuvent être distingués selon leurs niveaux, i.e leur distance au langage compris par la machine (ordinateur), le **langage machine**. Voici ci-dessous certaines classes de langage en commençant par les langages de plus haut niveau :\n",
    "\n",
    "+ **Les langages évolués ou de haut niveau**. Exemples : Python, Java, Javascript, PHP, Julia. Ici l'utilisateur code en utilisant des instructions définies par la  syntaxe du langage. Le code est facilement lisible pour un humain qui comprend un peu l'anglais !\n",
    "\n",
    "+ **Le langages assembleur**. C'est le langage qui permet de coder le langage machine en des termes pouvant être compris par un programmeur. Pour transformer l'assembleur en langage, il faut un programme qui s'appelle... _assembleur_ !\n",
    "\n",
    "+ **Le langage machine**. Suite de 0 et de 1 compréhensible par le processeur. C'est tout bonnement incompréhensible pour un humain. Ce langage est spécifique au processeur et dépend des opérations que ce  dernier permet d'effectuer. L'ensemble des instructions disponibles sur le processeur est appelé _jeu dinstructions_.\n",
    "\n",
    "Certains langages comme le **C** ou le **C++** ont à la fois des aspects bas niveau (possibilités d'accès à la mémoire en utilisant des adresses explicites) de haut niveau."
   ]
  },
  {
   "cell_type": "markdown",
   "metadata": {},
   "source": [
    "# Le temple du Python !\n",
    "Tout au long de nos séances, nous allons utiliser le langage **Python**. Ce langage a été créé en 1990 par Guido van Rossum. Il est orienté objet et impératif ; on peut l'utiliser pour faire toute sorte d'applications. L'exemple le plus emblématique est **YouTube** : le coeur de YouTube est codé en Python.\n",
    "\n",
    "Python est de plus en plus utilisé dans les cours d’informatique et dans de nombreux domaines comme l'IA, les Sciences des données, l'analyse d'image. Sa syntaxe haut niveau (proche de l'anglais), éloignée de celle des langage de bas niveau, permet une initiation plus aisée aux concepts de base de la programmation."
   ]
  },
  {
   "cell_type": "markdown",
   "metadata": {},
   "source": [
    "# Quelques notions courantes en programmation\n",
    "Un langage de programmation repose sur un ensemble de notions telles que les instructions, les variables, les types et les procédures ou fonctions, qui peuvent être utilisées comme ingrédients de base pour développer des programmes avec des algorithmes.\n",
    "\n",
    "## Instruction\n",
    "C'est un ordre donné à l'ordinateur. L'instruction suivante en Python demande à l'ordinateur d'afficher le message \"Bienvenue à l'EEIA 2021 !\" sur l'écran."
   ]
  },
  {
   "cell_type": "code",
   "execution_count": 1,
   "metadata": {},
   "outputs": [
    {
     "name": "stdout",
     "output_type": "stream",
     "text": [
      "Bienvenue à l'EEIA 2021 !\n"
     ]
    }
   ],
   "source": [
    "print(\"Bienvenue à l'EEIA 2021 !\")"
   ]
  },
  {
   "cell_type": "markdown",
   "metadata": {},
   "source": [
    "## Variable\n",
    "Une variable est un espace de stockage nommé et dans lequel il est possible de conserver des informations. L'information stockée dans une variable peut changer en fonction des modifications qu'on lui apporte. Nous étudierons les variables en détails très bientôt.\n",
    "\n",
    "Quand une variable a été créée et qu'on évalue une expression contenant l'identificateur correspondant, celui-ci est remplacé par la valeur de la variable au moment précis de l'évaluation (cette valeur peut bien sûr changer au cours du temps).\n",
    "\n",
    "On notera que pour affecter une valeur à une variable en Python, on utilise le signe **=**."
   ]
  },
  {
   "cell_type": "code",
   "execution_count": 104,
   "metadata": {},
   "outputs": [
    {
     "name": "stdout",
     "output_type": "stream",
     "text": [
      "a:  2\n",
      "a*(a+1)*(a+2):  24\n"
     ]
    }
   ],
   "source": [
    "a = 2\n",
    "print(\"a: \", a)\n",
    "print(\"a*(a+1)*(a+2): \", a*(a+1)*(a+2))"
   ]
  },
  {
   "cell_type": "markdown",
   "metadata": {},
   "source": [
    "Pour tester l'égalité de deux valeurs, on utilise l'opérateur **==** (double égal):"
   ]
  },
  {
   "cell_type": "code",
   "execution_count": 105,
   "metadata": {},
   "outputs": [
    {
     "data": {
      "text/plain": [
       "True"
      ]
     },
     "execution_count": 105,
     "metadata": {},
     "output_type": "execute_result"
    }
   ],
   "source": [
    "a == 2"
   ]
  },
  {
   "cell_type": "code",
   "execution_count": 106,
   "metadata": {},
   "outputs": [
    {
     "data": {
      "text/plain": [
       "False"
      ]
     },
     "execution_count": 106,
     "metadata": {},
     "output_type": "execute_result"
    }
   ],
   "source": [
    "a == 42"
   ]
  },
  {
   "cell_type": "markdown",
   "metadata": {},
   "source": [
    "On peut nommer une variable comme on veut. Enfin, en respectant quelques règles quand même. Le nom d'une variable ne doit pas commencer par un chiffre et ne doit pas contenir de caractère spécial, sauf le _ (***underscore*** ou **barre de 8** sur les clavier AZERTY). Quelques exemples valides:\n",
    "\n",
    "+ ma_variable\n",
    "\n",
    "+ fonction_test_27()\n",
    "\n",
    "+ mon_module\n",
    "\n",
    "> **⚠ Attention** : les noms des variables sont sensibles à la casse, c'est-à-dire que **veste** et **Veste** (avec un V majuscule) sont deux variables distinctes."
   ]
  },
  {
   "cell_type": "code",
   "execution_count": 107,
   "metadata": {},
   "outputs": [
    {
     "data": {
      "text/plain": [
       "4444"
      ]
     },
     "execution_count": 107,
     "metadata": {},
     "output_type": "execute_result"
    }
   ],
   "source": [
    "nom_un_peu_long = 1234\n",
    "Nom_Un_Peu_Long = 5678\n",
    "Nom_Un_Peu_Long - nom_un_peu_long"
   ]
  },
  {
   "source": [
    "**Remarque :**\n",
    "Sous Python, certains mots-clef sont strictement réservés par le langage et ne **doivent** pas être utilisés comme nom de variable sous peine de se faire taper sur les doigts par le compilateur ! Voici la liste mots-clef concernés :\n",
    "\n",
    "`and`, `as`, `assert`, `break`, `class`, `continue`, `def`, `del`, `elif`, `else`, `except`, `exec`, `finally`, `for`, `from`, `global`, `if`, `import`, `in`, `is`, `lambda`, `nonlocal`, `not`, `or`, `pass`, `print`, `raise`, `return`, `try`, `while`, `with`, `yield`, `False`, `None`, `True`.\n",
    "\n"
   ],
   "cell_type": "markdown",
   "metadata": {}
  },
  {
   "cell_type": "code",
   "execution_count": 6,
   "metadata": {},
   "outputs": [
    {
     "output_type": "error",
     "ename": "SyntaxError",
     "evalue": "invalid syntax (<ipython-input-6-2b8119fc0468>, line 1)",
     "traceback": [
      "\u001b[0;36m  File \u001b[0;32m\"<ipython-input-6-2b8119fc0468>\"\u001b[0;36m, line \u001b[0;32m1\u001b[0m\n\u001b[0;31m    with = 2\u001b[0m\n\u001b[0m         ^\u001b[0m\n\u001b[0;31mSyntaxError\u001b[0m\u001b[0;31m:\u001b[0m invalid syntax\n"
     ]
    }
   ],
   "source": [
    "with = 2"
   ]
  },
  {
   "cell_type": "markdown",
   "metadata": {},
   "source": [
    "## Expression littérale\n",
    "C'est une valeur mentionnée en toutes lettres dans le programme. Exemple :"
   ]
  },
  {
   "cell_type": "code",
   "execution_count": 119,
   "metadata": {},
   "outputs": [
    {
     "data": {
      "text/plain": [
       "4"
      ]
     },
     "execution_count": 119,
     "metadata": {},
     "output_type": "execute_result"
    }
   ],
   "source": [
    "17 + 7\n",
    "u = 3\n",
    "v = 1\n",
    "u + v"
   ]
  },
  {
   "cell_type": "markdown",
   "metadata": {},
   "source": [
    "## Type\n",
    "Les types permettent de classifier les données. En effet un type définit la nature des valeurs que peut prendre une donnée ainsi que les opérateurs qui peuvent lui être appliqués. Par exemple, le type **int** définit les nombres entiers. On peut faire la somme de deux entiers (opérateur **+**), les multiplier (opérateur **x**), etc. Chaque langage de programmation offre une gamme de types primitifs, incorporés dans le langage. Certains langages permettent même de créer de nouveaux types.\n",
    "\n",
    "Les types de données primitifs courants sont :\n",
    "\n",
    "+ les nombres entiers (**int** ou **integer**)\n",
    "\n",
    "+ les nombres réels (**float**)\n",
    "\n",
    "+ le booléen (**bool** en Python). Ce type n'a que deux valeurs possibles : **Vrai** et **Faux**, **True** et **False** en Python.\n",
    "\n",
    "+ les chaînes de caractères\n",
    "\n",
    "+ les pointeurs. C'est un type particulier qui fait référence à une donnée qui se trouve quelque part en mémoire"
   ]
  },
  {
   "cell_type": "code",
   "execution_count": 112,
   "metadata": {},
   "outputs": [
    {
     "name": "stdout",
     "output_type": "stream",
     "text": [
      "type(1 == 2):  <class 'bool'>\n",
      "type(1 + 2 + 3):  <class 'int'>\n",
      "type(1 + 2 + 3.):  <class 'float'>\n",
      "type(2 + 3j):  <class 'complex'>\n",
      "type('Une chaine'):  <class 'str'>\n"
     ]
    }
   ],
   "source": [
    "print(\"type(1 == 2): \", type(1 == 2))\n",
    "print(\"type(1 + 2 + 3): \", type(1 + 2 + 3))\n",
    "print(\"type(1 + 2 + 3.): \", type(1 + 2 + 3.))\n",
    "print(\"type(2 + 3j): \", type(2 + 3j))\n",
    "print(\"type('Une chaîne'): \", type('Une chaîne'))"
   ]
  },
  {
   "cell_type": "markdown",
   "metadata": {},
   "source": [
    "## Fonctions et Méthodes\n",
    "En programmation, on se retrouve très souvent à effectuer de façon répétée une même suite d'opérations avec seulement quelques changements. Dans ces cas, on regroupe la suite d'opérations dans une fonction à qui on donne en paramètres les données qui changent. Une fonction ou une méthode est donc une suite d'instructions appelées avec un certain nombre de (ou aucun !) paramètres. On peut écrire une fonction qui prend comme argument une liste de nombre et calcule leur maximum. Il y a une petite distinction entre fonction et méthode mais on la passe sous silence pour le moment."
   ]
  },
  {
   "cell_type": "markdown",
   "metadata": {},
   "source": [
    "## Modules\n",
    "Lorsqu'on commence à écrire des programmes longs et complexes, on peut les découper un plusieurs pièces qu'on appelle modules, chaque module ayant un rôle bien déterminé. Cela permet de se retrouver plus facilement dans le code. C'est un peu comme les chapitres d'un livre"
   ]
  }
 ],
 "metadata": {
  "kernelspec": {
   "display_name": "Python 3",
   "language": "python",
   "name": "python3"
  },
  "language_info": {
   "codemirror_mode": {
    "name": "ipython",
    "version": 3
   },
   "file_extension": ".py",
   "mimetype": "text/x-python",
   "name": "python",
   "nbconvert_exporter": "python",
   "pygments_lexer": "ipython3",
   "version": "3.7.6-final"
  }
 },
 "nbformat": 4,
 "nbformat_minor": 4
}